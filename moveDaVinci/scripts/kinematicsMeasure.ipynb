{
 "cells": [
  {
   "cell_type": "code",
   "execution_count": 212,
   "metadata": {},
   "outputs": [
    {
     "data": {
      "text/plain": [
       "True"
      ]
     },
     "execution_count": 212,
     "metadata": {},
     "output_type": "execute_result"
    }
   ],
   "source": [
    "import dvrk\n",
    "import numpy as np\n",
    "# Create a Python proxy for PSM1, name must match ros namespace\n",
    "p = dvrk.psm(\"PSM1\")\n",
    "\n",
    "# home from python\n",
    "# p.enable()\n",
    "p.home()"
   ]
  },
  {
   "attachments": {},
   "cell_type": "markdown",
   "metadata": {},
   "source": [
    "# Move"
   ]
  },
  {
   "cell_type": "code",
   "execution_count": 215,
   "metadata": {},
   "outputs": [],
   "source": [
    "# move in joint space: (absolute)\n",
    "desired_jp = np.array([0.0, 0.0, 0.0, 0.0, 0.0, 0.0]) # rotation in radians\n",
    "ret = p.move_jp(desired_jp).wait()"
   ]
  },
  {
   "cell_type": "code",
   "execution_count": 125,
   "metadata": {},
   "outputs": [],
   "source": [
    "# move in cartesion space:\n",
    "desired_cp = p.setpoint_cp()\n",
    "desired_cp.p[0] += 0.01 # meter\n",
    "ret = p.move_cp(desired_cp).wait() # the motion is based on the PSM1_psm_base_link frame"
   ]
  },
  {
   "cell_type": "code",
   "execution_count": 218,
   "metadata": {},
   "outputs": [
    {
     "data": {
      "text/plain": [
       "True"
      ]
     },
     "execution_count": 218,
     "metadata": {},
     "output_type": "execute_result"
    }
   ],
   "source": [
    "# move the tool tip frame:\n",
    "import math\n",
    "# start position\n",
    "desired_cp = p.setpoint_cp()\n",
    "# rotate tool tip frame by 25 degrees\n",
    "desired_cp.M.DoRotZ(math.pi * 0.25) # 所以， 从这个可以看出， 我们的target设置都是基于tool tip frame\n",
    "p.move_cp(desired_cp).wait()"
   ]
  },
  {
   "attachments": {},
   "cell_type": "markdown",
   "metadata": {},
   "source": [
    "# Measure"
   ]
  },
  {
   "cell_type": "code",
   "execution_count": 202,
   "metadata": {},
   "outputs": [],
   "source": [
    "# measure:\n",
    "# 1. measure the cartesion position: (what is this, is the transform matrix of the ee frame respected to the base frame)\n",
    "# if it is, then where are both of them?\n",
    "import PyKDL\n",
    "frameID = 0\n",
    "current_cp = p.measured_cp()"
   ]
  },
  {
   "cell_type": "code",
   "execution_count": 203,
   "metadata": {},
   "outputs": [],
   "source": [
    "# convet pykdl to numpy:\n",
    "translation = np.array([current_cp.p.x(), current_cp.p.y(), current_cp.p.z()])\n",
    "rotation = np.zeros((3, 3))\n",
    "for i in range(3):\n",
    "    for j in range(3):\n",
    "        rotation[i, j] = current_cp.M[i, j]\n",
    "\n",
    "# save translation:\n",
    "np.save(f\"frame_{frameID}_translation.npy\", translation)\n",
    "# save rotation:\n",
    "np.save(f\"frame_{frameID}_rotation.npy\", rotation)\n"
   ]
  },
  {
   "cell_type": "code",
   "execution_count": 205,
   "metadata": {},
   "outputs": [
    {
     "name": "stdout",
     "output_type": "stream",
     "text": [
      "[0.   0.   0.05 0.   0.   0.  ]\n"
     ]
    }
   ],
   "source": [
    "# 2. measure the joint position:\n",
    "if ret:\n",
    "    current_jp = p.measured_jp() # measure in meter\n",
    "    print(current_jp) # np array\n",
    "\n",
    "# save joint:\n",
    "np.save(f\"frame_{frameID}_joint.npy\", current_jp)\n"
   ]
  }
 ],
 "metadata": {
  "kernelspec": {
   "display_name": "Python 3",
   "language": "python",
   "name": "python3"
  },
  "language_info": {
   "codemirror_mode": {
    "name": "ipython",
    "version": 3
   },
   "file_extension": ".py",
   "mimetype": "text/x-python",
   "name": "python",
   "nbconvert_exporter": "python",
   "pygments_lexer": "ipython3",
   "version": "3.8.10"
  },
  "orig_nbformat": 4
 },
 "nbformat": 4,
 "nbformat_minor": 2
}
